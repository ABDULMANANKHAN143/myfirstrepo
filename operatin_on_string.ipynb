{
 "cells": [
  {
   "cell_type": "markdown",
   "id": "9ef6e72b",
   "metadata": {},
   "source": [
    "#Operation_on_string\n"
   ]
  },
  {
   "cell_type": "markdown",
   "id": "f4f74d16",
   "metadata": {},
   "source": [
    "##1.Joining string togeter(concatention)"
   ]
  },
  {
   "cell_type": "code",
   "execution_count": 2,
   "id": "9d330dcd",
   "metadata": {},
   "outputs": [
    {
     "name": "stdout",
     "output_type": "stream",
     "text": [
      "Alikhan\n"
     ]
    }
   ],
   "source": [
    "first_name = \"Ali\"\n",
    "last_name = \"khan\"\n",
    "Full_name = first_name +\"\" + last_name\n",
    "print(Full_name)"
   ]
  },
  {
   "cell_type": "markdown",
   "id": "74a29430",
   "metadata": {},
   "source": [
    "##2.Repeat a string"
   ]
  },
  {
   "cell_type": "code",
   "execution_count": 3,
   "id": "741a172b",
   "metadata": {},
   "outputs": [
    {
     "name": "stdout",
     "output_type": "stream",
     "text": [
      "HalloHalloHallo\n"
     ]
    }
   ],
   "source": [
    "Word = \"Hallo\"\n",
    "repeated_Word = Word * 3\n",
    "print(repeated_Word)"
   ]
  },
  {
   "cell_type": "markdown",
   "id": "3cc287d9",
   "metadata": {},
   "source": [
    "##3.Length of a string"
   ]
  },
  {
   "cell_type": "code",
   "execution_count": 4,
   "id": "66bc5057",
   "metadata": {},
   "outputs": [
    {
     "name": "stdout",
     "output_type": "stream",
     "text": [
      "3\n"
     ]
    }
   ],
   "source": [
    "name = \"Ali\"\n",
    "length = len(name)\n",
    "print(length)"
   ]
  },
  {
   "cell_type": "markdown",
   "id": "aa80eaa8",
   "metadata": {},
   "source": [
    "##4.Pick a letter by its spot(indexing)"
   ]
  },
  {
   "cell_type": "code",
   "execution_count": 5,
   "id": "6504e0eb",
   "metadata": {},
   "outputs": [
    {
     "name": "stdout",
     "output_type": "stream",
     "text": [
      "p\n"
     ]
    }
   ],
   "source": [
    "Word = \"python\"\n",
    "letter = Word[0]\n",
    "print(letter)"
   ]
  },
  {
   "cell_type": "markdown",
   "id": "443fca7f",
   "metadata": {},
   "source": [
    "##5.Cut a piece(slicing)"
   ]
  },
  {
   "cell_type": "code",
   "execution_count": 6,
   "id": "c8070262",
   "metadata": {},
   "outputs": [
    {
     "name": "stdout",
     "output_type": "stream",
     "text": [
      "proga\n"
     ]
    }
   ],
   "source": [
    "Word =\"progaming\"\n",
    "part = Word[0:5]\n",
    "print(part)"
   ]
  },
  {
   "cell_type": "markdown",
   "id": "2c1aceca",
   "metadata": {},
   "source": [
    "##6.Change letter case"
   ]
  },
  {
   "cell_type": "code",
   "execution_count": 10,
   "id": "8cbbf5ec",
   "metadata": {},
   "outputs": [
    {
     "name": "stdout",
     "output_type": "stream",
     "text": [
      "HELLO\n",
      "hello\n",
      "Hello\n"
     ]
    }
   ],
   "source": [
    "text = \"Hello\"\n",
    "print(text.upper())\n",
    "print(text.lower())\n",
    "print(text.capitalize())"
   ]
  },
  {
   "cell_type": "markdown",
   "id": "b7910f99",
   "metadata": {},
   "source": [
    "##7.check if something is inside(Membership test)"
   ]
  },
  {
   "cell_type": "code",
   "execution_count": 11,
   "id": "d3067649",
   "metadata": {},
   "outputs": [
    {
     "name": "stdout",
     "output_type": "stream",
     "text": [
      "True\n",
      "False\n"
     ]
    }
   ],
   "source": [
    "text =\"Hello World\"\n",
    "print(\"World\" in text)\n",
    "print(\"Python\" in text)"
   ]
  },
  {
   "cell_type": "markdown",
   "id": "92b19d73",
   "metadata": {},
   "source": [
    "##8.Change a word or letter(Replace)"
   ]
  },
  {
   "cell_type": "code",
   "execution_count": 13,
   "id": "a4382e3f",
   "metadata": {},
   "outputs": [
    {
     "name": "stdout",
     "output_type": "stream",
     "text": [
      "I love python\n"
     ]
    }
   ],
   "source": [
    "text = \"I love java\"\n",
    "new_text = text.replace(\"java\",\"python\")\n",
    "print(new_text)"
   ]
  },
  {
   "cell_type": "markdown",
   "id": "1611a4d1",
   "metadata": {},
   "source": [
    "##9.Break a sentence into words(split)"
   ]
  },
  {
   "cell_type": "code",
   "execution_count": 14,
   "id": "ffd99ce9",
   "metadata": {},
   "outputs": [
    {
     "name": "stdout",
     "output_type": "stream",
     "text": [
      "['I', 'love', 'python']\n"
     ]
    }
   ],
   "source": [
    "sentence = \"I love python\"\n",
    "Word = sentence.split()\n",
    "print(Word)"
   ]
  },
  {
   "cell_type": "markdown",
   "id": "d0b21dbf",
   "metadata": {},
   "source": [
    "##10.Glue word together(jion)"
   ]
  },
  {
   "cell_type": "code",
   "execution_count": 17,
   "id": "0d346688",
   "metadata": {},
   "outputs": [
    {
     "name": "stdout",
     "output_type": "stream",
     "text": [
      "Ilovepython\n"
     ]
    }
   ],
   "source": [
    "Word = ['I','love','python']\n",
    "sentence = \"\".join(Word)\n",
    "print(sentence)"
   ]
  }
 ],
 "metadata": {
  "kernelspec": {
   "display_name": "Python 3",
   "language": "python",
   "name": "python3"
  },
  "language_info": {
   "codemirror_mode": {
    "name": "ipython",
    "version": 3
   },
   "file_extension": ".py",
   "mimetype": "text/x-python",
   "name": "python",
   "nbconvert_exporter": "python",
   "pygments_lexer": "ipython3",
   "version": "3.12.7"
  }
 },
 "nbformat": 4,
 "nbformat_minor": 5
}
