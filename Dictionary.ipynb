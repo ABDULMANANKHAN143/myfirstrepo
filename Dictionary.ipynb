{
 "cells": [
  {
   "cell_type": "markdown",
   "id": "cf3fdb71",
   "metadata": {},
   "source": [
    "#Dicionary"
   ]
  },
  {
   "cell_type": "code",
   "execution_count": 3,
   "id": "6dc5045b",
   "metadata": {},
   "outputs": [
    {
     "name": "stdout",
     "output_type": "stream",
     "text": [
      "person info: {'name': 'Ali', 'age': 25, 'city': 'Lahore'}\n",
      "name: Ali\n",
      "Updated person info: {'name': 'Ali', 'age': 25, 'city': 'Lahore', 'profession': 'Enginer'}\n"
     ]
    }
   ],
   "source": [
    "person = {\"name\" : \"Ali\",\"age\" : 25,\"city\" : \"Lahore\"}\n",
    "print(\"person info:\",person)\n",
    "print(\"name:\",person[\"name\"])\n",
    "person[\"profession\"] = \"Enginer\"\n",
    "print(\"Updated person info:\",person)"
   ]
  }
 ],
 "metadata": {
  "kernelspec": {
   "display_name": "Python 3",
   "language": "python",
   "name": "python3"
  },
  "language_info": {
   "codemirror_mode": {
    "name": "ipython",
    "version": 3
   },
   "file_extension": ".py",
   "mimetype": "text/x-python",
   "name": "python",
   "nbconvert_exporter": "python",
   "pygments_lexer": "ipython3",
   "version": "3.12.7"
  }
 },
 "nbformat": 4,
 "nbformat_minor": 5
}
