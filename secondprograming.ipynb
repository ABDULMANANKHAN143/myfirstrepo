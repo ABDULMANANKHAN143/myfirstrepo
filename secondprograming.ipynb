{
 "cells": [
  {
   "cell_type": "markdown",
   "id": "ebf9fc21",
   "metadata": {},
   "source": [
    "##Intger"
   ]
  },
  {
   "cell_type": "code",
   "execution_count": 2,
   "id": "48aaee37",
   "metadata": {},
   "outputs": [
    {
     "name": "stdout",
     "output_type": "stream",
     "text": [
      "age\n",
      "score\n"
     ]
    }
   ],
   "source": [
    "age = 25\n",
    "score = -10\n",
    "print(\"age\")\n",
    "print(\"score\")"
   ]
  },
  {
   "cell_type": "markdown",
   "id": "304c9934",
   "metadata": {},
   "source": [
    "##Floot"
   ]
  },
  {
   "cell_type": "code",
   "execution_count": 3,
   "id": "4cdce805",
   "metadata": {},
   "outputs": [
    {
     "name": "stdout",
     "output_type": "stream",
     "text": [
      "price\n",
      "temperatuer\n"
     ]
    }
   ],
   "source": [
    "price = 19.25\n",
    "temperature = -5.5\n",
    "print(\"price\")\n",
    "print(\"temperatuer\")"
   ]
  },
  {
   "cell_type": "markdown",
   "id": "ce2b08d2",
   "metadata": {},
   "source": [
    "##String"
   ]
  },
  {
   "cell_type": "code",
   "execution_count": 4,
   "id": "e5f60ee7",
   "metadata": {},
   "outputs": [
    {
     "name": "stdout",
     "output_type": "stream",
     "text": [
      "Abdul\n",
      "03017283143\n"
     ]
    }
   ],
   "source": [
    "name = \"Abdul\"\n",
    "Phon_Number = \"03017283143\"\n",
    "print(name)\n",
    "print(Phon_Number)"
   ]
  },
  {
   "cell_type": "markdown",
   "id": "583f03ca",
   "metadata": {},
   "source": [
    "##Boolean"
   ]
  },
  {
   "cell_type": "code",
   "execution_count": 5,
   "id": "f28c2a6c",
   "metadata": {},
   "outputs": [
    {
     "name": "stdout",
     "output_type": "stream",
     "text": [
      "False\n"
     ]
    }
   ],
   "source": [
    "is_sunny = True\n",
    "is_rainning = False\n",
    "print(is_rainning)"
   ]
  }
 ],
 "metadata": {
  "kernelspec": {
   "display_name": "Python 3",
   "language": "python",
   "name": "python3"
  },
  "language_info": {
   "codemirror_mode": {
    "name": "ipython",
    "version": 3
   },
   "file_extension": ".py",
   "mimetype": "text/x-python",
   "name": "python",
   "nbconvert_exporter": "python",
   "pygments_lexer": "ipython3",
   "version": "3.12.7"
  }
 },
 "nbformat": 4,
 "nbformat_minor": 5
}
