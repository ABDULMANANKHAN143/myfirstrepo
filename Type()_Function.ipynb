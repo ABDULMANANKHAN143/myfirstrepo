{
 "cells": [
  {
   "cell_type": "markdown",
   "id": "8f001ce5",
   "metadata": {},
   "source": [
    "#Type() Function"
   ]
  },
  {
   "cell_type": "code",
   "execution_count": 1,
   "id": "a2d9cb2b",
   "metadata": {},
   "outputs": [
    {
     "name": "stdout",
     "output_type": "stream",
     "text": [
      "<class 'int'>\n"
     ]
    }
   ],
   "source": [
    "X = 10\n",
    "print(type(X))"
   ]
  }
 ],
 "metadata": {
  "kernelspec": {
   "display_name": "Python 3",
   "language": "python",
   "name": "python3"
  },
  "language_info": {
   "codemirror_mode": {
    "name": "ipython",
    "version": 3
   },
   "file_extension": ".py",
   "mimetype": "text/x-python",
   "name": "python",
   "nbconvert_exporter": "python",
   "pygments_lexer": "ipython3",
   "version": "3.12.7"
  }
 },
 "nbformat": 4,
 "nbformat_minor": 5
}
