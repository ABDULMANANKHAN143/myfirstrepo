{
 "cells": [
  {
   "cell_type": "markdown",
   "id": "d483882d",
   "metadata": {},
   "source": [
    "#Arithmetic operators in python"
   ]
  },
  {
   "cell_type": "markdown",
   "id": "67ce2e02",
   "metadata": {},
   "source": [
    "##1.Addition(+)"
   ]
  },
  {
   "cell_type": "code",
   "execution_count": 1,
   "id": "212eb17c",
   "metadata": {},
   "outputs": [
    {
     "name": "stdout",
     "output_type": "stream",
     "text": [
      "5 + 3 = 8\n"
     ]
    }
   ],
   "source": [
    "a = 5 \n",
    "b = 3\n",
    "result = a+b\n",
    "print(f\"{a} + {b} = {result}\")"
   ]
  },
  {
   "cell_type": "markdown",
   "id": "3eb1eef9",
   "metadata": {},
   "source": [
    "##2.Subtraction(-)"
   ]
  },
  {
   "cell_type": "code",
   "execution_count": 2,
   "id": "404d2abb",
   "metadata": {},
   "outputs": [
    {
     "name": "stdout",
     "output_type": "stream",
     "text": [
      "5 - 3 = 2\n"
     ]
    }
   ],
   "source": [
    "a = 5\n",
    "b = 3\n",
    "result = a-b\n",
    "print(f\"{a} - {b} = {result}\")"
   ]
  },
  {
   "cell_type": "markdown",
   "id": "8a81ada6",
   "metadata": {},
   "source": [
    "##3.Multipication(*)"
   ]
  },
  {
   "cell_type": "code",
   "execution_count": 3,
   "id": "7bcc9a5b",
   "metadata": {},
   "outputs": [
    {
     "name": "stdout",
     "output_type": "stream",
     "text": [
      "5 * 3 = 15\n"
     ]
    }
   ],
   "source": [
    "a = 5\n",
    "b = 3\n",
    "result = a*b\n",
    "print(f\"{a} * {b} = {result}\")"
   ]
  },
  {
   "cell_type": "markdown",
   "id": "4d8640ba",
   "metadata": {},
   "source": [
    "##4.Division(/)"
   ]
  },
  {
   "cell_type": "code",
   "execution_count": 4,
   "id": "21a00a3c",
   "metadata": {},
   "outputs": [
    {
     "name": "stdout",
     "output_type": "stream",
     "text": [
      "5 / 3 = 1.6666666666666667\n"
     ]
    }
   ],
   "source": [
    "a = 5\n",
    "b = 3\n",
    "result = a/b\n",
    "print(f\"{a} / {b} = {result}\")"
   ]
  },
  {
   "cell_type": "markdown",
   "id": "30f98440",
   "metadata": {},
   "source": [
    "##5.Floor Division(//)"
   ]
  },
  {
   "cell_type": "code",
   "execution_count": 5,
   "id": "80106f86",
   "metadata": {},
   "outputs": [
    {
     "name": "stdout",
     "output_type": "stream",
     "text": [
      "5 // 3 = 1\n"
     ]
    }
   ],
   "source": [
    "a = 5\n",
    "b = 3 \n",
    "result = a//b\n",
    "print(f\"{a} // {b} = {result}\")"
   ]
  },
  {
   "cell_type": "markdown",
   "id": "2dedf377",
   "metadata": {},
   "source": [
    "##6.Modulus(%)"
   ]
  },
  {
   "cell_type": "code",
   "execution_count": 6,
   "id": "9dc2d6c2",
   "metadata": {},
   "outputs": [
    {
     "name": "stdout",
     "output_type": "stream",
     "text": [
      "5 % 3 = 2\n"
     ]
    }
   ],
   "source": [
    "a = 5\n",
    "b = 3\n",
    "result = a%b\n",
    "print(f\"{a} % {b} = {result}\")"
   ]
  },
  {
   "cell_type": "markdown",
   "id": "20d009da",
   "metadata": {},
   "source": [
    "##7.Exponentiation"
   ]
  },
  {
   "cell_type": "code",
   "execution_count": 7,
   "id": "3c8c6566",
   "metadata": {},
   "outputs": [
    {
     "name": "stdout",
     "output_type": "stream",
     "text": [
      "5 ** 3 = 125\n"
     ]
    }
   ],
   "source": [
    "a = 5\n",
    "b = 3\n",
    "result = a**b\n",
    "print(f\"{a} ** {b} = {result}\")"
   ]
  }
 ],
 "metadata": {
  "kernelspec": {
   "display_name": "Python 3",
   "language": "python",
   "name": "python3"
  },
  "language_info": {
   "codemirror_mode": {
    "name": "ipython",
    "version": 3
   },
   "file_extension": ".py",
   "mimetype": "text/x-python",
   "name": "python",
   "nbconvert_exporter": "python",
   "pygments_lexer": "ipython3",
   "version": "3.12.7"
  }
 },
 "nbformat": 4,
 "nbformat_minor": 5
}
