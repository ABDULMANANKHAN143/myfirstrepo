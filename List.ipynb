{
 "cells": [
  {
   "cell_type": "markdown",
   "id": "c2312254",
   "metadata": {},
   "source": [
    "#List"
   ]
  },
  {
   "cell_type": "code",
   "execution_count": 1,
   "id": "5410f0ac",
   "metadata": {},
   "outputs": [
    {
     "name": "stdout",
     "output_type": "stream",
     "text": [
      "['apple', 'banana', 'mango']\n"
     ]
    }
   ],
   "source": [
    "fruit = [\"apple\",\"banana\",\"mango\"]\n",
    "print(fruit)"
   ]
  },
  {
   "cell_type": "markdown",
   "id": "fedb84f4",
   "metadata": {},
   "source": [
    "###append()"
   ]
  },
  {
   "cell_type": "code",
   "execution_count": 2,
   "id": "fcfcdd2f",
   "metadata": {},
   "outputs": [
    {
     "name": "stdout",
     "output_type": "stream",
     "text": [
      "['apple', 'banana', 'mango', 'orange']\n"
     ]
    }
   ],
   "source": [
    "fruit = [\"apple\",\"banana\",\"mango\"]\n",
    "fruit.append(\"orange\")\n",
    "print(fruit)"
   ]
  },
  {
   "cell_type": "markdown",
   "id": "58e46423",
   "metadata": {},
   "source": [
    "###indexing"
   ]
  },
  {
   "cell_type": "code",
   "execution_count": 3,
   "id": "97fea8d5",
   "metadata": {},
   "outputs": [
    {
     "name": "stdout",
     "output_type": "stream",
     "text": [
      "apple\n"
     ]
    }
   ],
   "source": [
    "fruit = [\"apple\",\"banana\",\"mango\"]\n",
    "print(fruit[0])"
   ]
  }
 ],
 "metadata": {
  "kernelspec": {
   "display_name": "Python 3",
   "language": "python",
   "name": "python3"
  },
  "language_info": {
   "codemirror_mode": {
    "name": "ipython",
    "version": 3
   },
   "file_extension": ".py",
   "mimetype": "text/x-python",
   "name": "python",
   "nbconvert_exporter": "python",
   "pygments_lexer": "ipython3",
   "version": "3.12.7"
  }
 },
 "nbformat": 4,
 "nbformat_minor": 5
}
