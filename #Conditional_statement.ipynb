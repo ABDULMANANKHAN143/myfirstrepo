{
 "cells": [
  {
   "cell_type": "markdown",
   "id": "2f8c6c88",
   "metadata": {},
   "source": [
    "#Condition satatements in python"
   ]
  },
  {
   "cell_type": "markdown",
   "id": "a04714b1",
   "metadata": {},
   "source": [
    "##1.If statement"
   ]
  },
  {
   "cell_type": "code",
   "execution_count": 1,
   "id": "5e53d3e8",
   "metadata": {},
   "outputs": [
    {
     "name": "stdout",
     "output_type": "stream",
     "text": [
      "it,s a hot day.\n"
     ]
    }
   ],
   "source": [
    "temperature = 30\n",
    "if temperature > 25:\n",
    "    print(\"it,s a hot day.\")"
   ]
  },
  {
   "cell_type": "markdown",
   "id": "92769ba7",
   "metadata": {},
   "source": [
    "##2.if...else statement"
   ]
  },
  {
   "cell_type": "code",
   "execution_count": 6,
   "id": "2d83027c",
   "metadata": {},
   "outputs": [
    {
     "name": "stdout",
     "output_type": "stream",
     "text": [
      "it,s a normal day.\n"
     ]
    }
   ],
   "source": [
    "temperature = 20\n",
    "if temperature > 25:\n",
    "     print(\"it,s a hot day.\")\n",
    "else:\n",
    "    print(\"it,s a normal day.\")"
   ]
  },
  {
   "cell_type": "markdown",
   "id": "23e1a58f",
   "metadata": {},
   "source": [
    "##3.if...elif...else statement"
   ]
  },
  {
   "cell_type": "code",
   "execution_count": 7,
   "id": "d18fb2cc",
   "metadata": {},
   "outputs": [
    {
     "name": "stdout",
     "output_type": "stream",
     "text": [
      "it,s a bit cold.\n"
     ]
    }
   ],
   "source": [
    "temperature = 15\n",
    "if temperature > 30:\n",
    "    print(\"it,s a very hot day.\")\n",
    "elif temperature > 20:\n",
    "    print(\"it,s a hot day.\")\n",
    "elif temperature > 10:\n",
    "    print(\"it,s a bit cold.\")\n",
    "else:\n",
    "    print(\"it,s a very cold.\")\n"
   ]
  }
 ],
 "metadata": {
  "kernelspec": {
   "display_name": "Python 3",
   "language": "python",
   "name": "python3"
  },
  "language_info": {
   "codemirror_mode": {
    "name": "ipython",
    "version": 3
   },
   "file_extension": ".py",
   "mimetype": "text/x-python",
   "name": "python",
   "nbconvert_exporter": "python",
   "pygments_lexer": "ipython3",
   "version": "3.12.7"
  }
 },
 "nbformat": 4,
 "nbformat_minor": 5
}
